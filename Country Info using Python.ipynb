{
 "cells": [
  {
   "cell_type": "markdown",
   "id": "2205a5a8-8959-420c-85b2-9fb6caf15536",
   "metadata": {},
   "source": [
    "# Install Library"
   ]
  },
  {
   "cell_type": "code",
   "execution_count": 4,
   "id": "4acb2e24-96f2-4203-8182-7bd018dbca7d",
   "metadata": {},
   "outputs": [
    {
     "name": "stdout",
     "output_type": "stream",
     "text": [
      "Collecting countryinfo\n",
      "  Downloading countryinfo-0.1.2-py3-none-any.whl.metadata (24 kB)\n",
      "Downloading countryinfo-0.1.2-py3-none-any.whl (602 kB)\n",
      "   ---------------------------------------- 0.0/602.2 kB ? eta -:--:--\n",
      "   ---------------------------------- ----- 524.3/602.2 kB 3.5 MB/s eta 0:00:01\n",
      "   ---------------------------------------- 602.2/602.2 kB 2.5 MB/s eta 0:00:00\n",
      "Installing collected packages: countryinfo\n",
      "Successfully installed countryinfo-0.1.2\n",
      "Note: you may need to restart the kernel to use updated packages.\n"
     ]
    },
    {
     "name": "stderr",
     "output_type": "stream",
     "text": [
      "\n",
      "[notice] A new release of pip is available: 24.2 -> 24.3.1\n",
      "[notice] To update, run: python.exe -m pip install --upgrade pip\n"
     ]
    }
   ],
   "source": [
    "pip install countryinfo"
   ]
  },
  {
   "cell_type": "markdown",
   "id": "a42584f6-ffe9-4955-a8ac-c870b17e391e",
   "metadata": {},
   "source": [
    "# Code"
   ]
  },
  {
   "cell_type": "code",
   "execution_count": 17,
   "id": "ba383085-82cc-4776-847e-53191431a36b",
   "metadata": {},
   "outputs": [
    {
     "name": "stdin",
     "output_type": "stream",
     "text": [
      "Enter the name of country:  bd\n"
     ]
    },
    {
     "name": "stdout",
     "output_type": "stream",
     "text": [
      "The captial of bd:  Dhaka\n",
      "The area of bd:  147570\n",
      "The calling codes of bd:  ['880']\n",
      "The currencies of bd:  ['BDT']\n",
      "The population of bd:  157486000\n",
      "The languages of bd:  ['bn']\n",
      "The borders of bd:  ['MMR', 'IND']\n",
      "The other name of bd:  ['BD', \"People's Republic of Bangladesh\", 'Gônôprôjatôntri Bangladesh']\n",
      "The region of bd:  Asia\n",
      "The subregion of bd:  Southern Asia\n",
      "The timezones() of bd:  ['UTC+06:00']\n",
      "The wiki link of bd:  http://en.wikipedia.org/wiki/bangladesh\n"
     ]
    }
   ],
   "source": [
    "from countryinfo import CountryInfo\n",
    "\n",
    "country_Name=input(\"Enter the name of country: \")\n",
    "feature=CountryInfo(country_Name)\n",
    "print(f\"The captial of {country_Name}: \",feature.capital())\n",
    "print(f\"The area of {country_Name}: \",feature.area())\n",
    "print(f\"The calling codes of {country_Name}: \",feature.calling_codes())\n",
    "print(f\"The currencies of {country_Name}: \",feature.currencies())\n",
    "print(f\"The population of {country_Name}: \",feature.population())\n",
    "print(f\"The languages of {country_Name}: \",feature.languages())\n",
    "print(f\"The borders of {country_Name}: \",feature.borders())\n",
    "print(f\"The other name of {country_Name}: \",feature.alt_spellings())\n",
    "print(f\"The region of {country_Name}: \",feature.region())\n",
    "print(f\"The subregion of {country_Name}: \",feature.subregion())\n",
    "print(f\"The timezones() of {country_Name}: \",feature.timezones())\n",
    "print(f\"The wiki link of {country_Name}: \",feature.wiki())"
   ]
  },
  {
   "cell_type": "code",
   "execution_count": null,
   "id": "ae2bed98-1021-404c-b5a4-a4a3dfac4c9b",
   "metadata": {},
   "outputs": [],
   "source": []
  }
 ],
 "metadata": {
  "kernelspec": {
   "display_name": "Python 3 (ipykernel)",
   "language": "python",
   "name": "python3"
  },
  "language_info": {
   "codemirror_mode": {
    "name": "ipython",
    "version": 3
   },
   "file_extension": ".py",
   "mimetype": "text/x-python",
   "name": "python",
   "nbconvert_exporter": "python",
   "pygments_lexer": "ipython3",
   "version": "3.13.0"
  }
 },
 "nbformat": 4,
 "nbformat_minor": 5
}
