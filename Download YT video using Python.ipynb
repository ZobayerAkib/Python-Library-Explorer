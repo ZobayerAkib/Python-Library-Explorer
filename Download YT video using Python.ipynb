{
 "cells": [
  {
   "cell_type": "markdown",
   "id": "e4e82f4e-c3fa-40ca-9415-daa7b84886ca",
   "metadata": {},
   "source": [
    "# Install Library"
   ]
  },
  {
   "cell_type": "code",
   "execution_count": 1,
   "id": "c2c16507-d2e7-45d4-a1b6-2579464f8b70",
   "metadata": {},
   "outputs": [
    {
     "name": "stdout",
     "output_type": "stream",
     "text": [
      "Note: you may need to restart the kernel to use updated packages.Collecting yt-dlp\n",
      "  Downloading yt_dlp-2024.11.4-py3-none-any.whl.metadata (172 kB)\n",
      "Downloading yt_dlp-2024.11.4-py3-none-any.whl (3.2 MB)\n",
      "   ---------------------------------------- 0.0/3.2 MB ? eta -:--:--\n",
      "   ------ --------------------------------- 0.5/3.2 MB 4.8 MB/s eta 0:00:01\n",
      "   ---------------- ----------------------- 1.3/3.2 MB 4.2 MB/s eta 0:00:01\n",
      "   -------------------------- ------------- 2.1/3.2 MB 3.6 MB/s eta 0:00:01\n",
      "   ----------------------------- ---------- 2.4/3.2 MB 3.1 MB/s eta 0:00:01\n",
      "   ------------------------------------ --- 2.9/3.2 MB 3.0 MB/s eta 0:00:01\n",
      "   ---------------------------------------- 3.2/3.2 MB 2.8 MB/s eta 0:00:00\n",
      "Installing collected packages: yt-dlp\n",
      "Successfully installed yt-dlp-2024.11.4\n",
      "\n"
     ]
    },
    {
     "name": "stderr",
     "output_type": "stream",
     "text": [
      "\n",
      "[notice] A new release of pip is available: 24.2 -> 24.3.1\n",
      "[notice] To update, run: python.exe -m pip install --upgrade pip\n"
     ]
    }
   ],
   "source": [
    "pip install yt-dlp"
   ]
  },
  {
   "cell_type": "markdown",
   "id": "7d24be42-0b67-4788-831c-1a2393ea9a8d",
   "metadata": {},
   "source": [
    "# Code"
   ]
  },
  {
   "cell_type": "code",
   "execution_count": null,
   "id": "60a1cc04-1545-4176-880c-2283359b1f4d",
   "metadata": {},
   "outputs": [],
   "source": [
    "import yt_dlp as yt\n",
    "\n",
    "url = input(\"Enter the url: \")\n",
    "yt_vd = {}\n",
    "\n",
    "with yt.YoutubeDL(yt_vd) as vd:  # Note the capitalization here: 'YoutubeDL'\n",
    "    vd.download([url])\n",
    "\n",
    "print(\"Video downloaded successfully!\")\n"
   ]
  },
  {
   "cell_type": "code",
   "execution_count": null,
   "id": "a6d97538-8d94-4bc1-9887-f3e4b3020465",
   "metadata": {},
   "outputs": [],
   "source": []
  }
 ],
 "metadata": {
  "kernelspec": {
   "display_name": "Python 3 (ipykernel)",
   "language": "python",
   "name": "python3"
  },
  "language_info": {
   "codemirror_mode": {
    "name": "ipython",
    "version": 3
   },
   "file_extension": ".py",
   "mimetype": "text/x-python",
   "name": "python",
   "nbconvert_exporter": "python",
   "pygments_lexer": "ipython3",
   "version": "3.13.0"
  }
 },
 "nbformat": 4,
 "nbformat_minor": 5
}
