{
 "cells": [
  {
   "cell_type": "code",
   "execution_count": 10,
   "id": "b7cb30ce-a650-47e6-a27f-740c10bcb8c0",
   "metadata": {},
   "outputs": [
    {
     "name": "stdin",
     "output_type": "stream",
     "text": [
      "Guess a number within 1-10 range:  1\n"
     ]
    },
    {
     "name": "stdout",
     "output_type": "stream",
     "text": [
      "You are a champ! Great Work! \n"
     ]
    }
   ],
   "source": [
    "import random\n",
    "import os\n",
    "\n",
    "number=random.randint(1,10)\n",
    "guess=int(input(\"Guess a number within 1-10 range: \"))\n",
    "if(guess==number):\n",
    "    print(\"You are a champ! Great Work! \")\n",
    "\n",
    "else:\n",
    "    print(f\"You Lost! Try Again, The Original Number is: {number} and Your Number is: {guess}\")\n"
   ]
  },
  {
   "cell_type": "code",
   "execution_count": null,
   "id": "3985c92f-b052-4c8c-943b-69166d35a191",
   "metadata": {},
   "outputs": [],
   "source": []
  }
 ],
 "metadata": {
  "kernelspec": {
   "display_name": "Python 3 (ipykernel)",
   "language": "python",
   "name": "python3"
  },
  "language_info": {
   "codemirror_mode": {
    "name": "ipython",
    "version": 3
   },
   "file_extension": ".py",
   "mimetype": "text/x-python",
   "name": "python",
   "nbconvert_exporter": "python",
   "pygments_lexer": "ipython3",
   "version": "3.13.0"
  }
 },
 "nbformat": 4,
 "nbformat_minor": 5
}
